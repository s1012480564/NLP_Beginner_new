{
 "cells": [
  {
   "cell_type": "code",
   "metadata": {
    "collapsed": true,
    "ExecuteTime": {
     "end_time": "2024-12-20T01:52:35.316150Z",
     "start_time": "2024-12-20T01:52:34.948668Z"
    }
   },
   "source": [
    "import numpy as np\n",
    "import pandas as pd\n",
    "import matplotlib.pyplot as plt\n",
    "import seaborn as sns\n",
    "import re\n",
    "import nltk\n",
    "from nltk.corpus import stopwords\n",
    "from nltk.stem import WordNetLemmatizer\n",
    "from sklearn.feature_extraction.text import CountVectorizer\n",
    "from sklearn.model_selection import cross_val_score"
   ],
   "outputs": [],
   "execution_count": 1
  },
  {
   "cell_type": "code",
   "source": [
    "df_train = pd.read_csv('dataset/train.tsv', sep='\\t')\n",
    "df_test = pd.read_csv('dataset/test.tsv', sep='\\t')\n",
    "df_train.head()"
   ],
   "metadata": {
    "collapsed": false,
    "pycharm": {
     "name": "#%%\n"
    },
    "ExecuteTime": {
     "end_time": "2024-12-20T01:54:50.307523Z",
     "start_time": "2024-12-20T01:54:49.866693Z"
    }
   },
   "outputs": [
    {
     "data": {
      "text/plain": [
       "   PhraseId  SentenceId                                             Phrase  \\\n",
       "0         1           1  A series of escapades demonstrating the adage ...   \n",
       "1         2           1  A series of escapades demonstrating the adage ...   \n",
       "2         3           1                                           A series   \n",
       "3         4           1                                                  A   \n",
       "4         5           1                                             series   \n",
       "\n",
       "   Sentiment  \n",
       "0          1  \n",
       "1          2  \n",
       "2          2  \n",
       "3          2  \n",
       "4          2  "
      ],
      "text/html": [
       "<div>\n",
       "<style scoped>\n",
       "    .dataframe tbody tr th:only-of-type {\n",
       "        vertical-align: middle;\n",
       "    }\n",
       "\n",
       "    .dataframe tbody tr th {\n",
       "        vertical-align: top;\n",
       "    }\n",
       "\n",
       "    .dataframe thead th {\n",
       "        text-align: right;\n",
       "    }\n",
       "</style>\n",
       "<table border=\"1\" class=\"dataframe\">\n",
       "  <thead>\n",
       "    <tr style=\"text-align: right;\">\n",
       "      <th></th>\n",
       "      <th>PhraseId</th>\n",
       "      <th>SentenceId</th>\n",
       "      <th>Phrase</th>\n",
       "      <th>Sentiment</th>\n",
       "    </tr>\n",
       "  </thead>\n",
       "  <tbody>\n",
       "    <tr>\n",
       "      <th>0</th>\n",
       "      <td>1</td>\n",
       "      <td>1</td>\n",
       "      <td>A series of escapades demonstrating the adage ...</td>\n",
       "      <td>1</td>\n",
       "    </tr>\n",
       "    <tr>\n",
       "      <th>1</th>\n",
       "      <td>2</td>\n",
       "      <td>1</td>\n",
       "      <td>A series of escapades demonstrating the adage ...</td>\n",
       "      <td>2</td>\n",
       "    </tr>\n",
       "    <tr>\n",
       "      <th>2</th>\n",
       "      <td>3</td>\n",
       "      <td>1</td>\n",
       "      <td>A series</td>\n",
       "      <td>2</td>\n",
       "    </tr>\n",
       "    <tr>\n",
       "      <th>3</th>\n",
       "      <td>4</td>\n",
       "      <td>1</td>\n",
       "      <td>A</td>\n",
       "      <td>2</td>\n",
       "    </tr>\n",
       "    <tr>\n",
       "      <th>4</th>\n",
       "      <td>5</td>\n",
       "      <td>1</td>\n",
       "      <td>series</td>\n",
       "      <td>2</td>\n",
       "    </tr>\n",
       "  </tbody>\n",
       "</table>\n",
       "</div>"
      ]
     },
     "execution_count": 23,
     "metadata": {},
     "output_type": "execute_result"
    }
   ],
   "execution_count": 23
  },
  {
   "cell_type": "code",
   "source": [
    "df_train.info(), df_test.info()"
   ],
   "metadata": {
    "collapsed": false,
    "pycharm": {
     "name": "#%%\n"
    },
    "ExecuteTime": {
     "end_time": "2024-12-20T01:52:37.661Z",
     "start_time": "2024-12-20T01:52:37.626941Z"
    }
   },
   "outputs": [
    {
     "name": "stdout",
     "output_type": "stream",
     "text": [
      "<class 'pandas.core.frame.DataFrame'>\n",
      "RangeIndex: 156060 entries, 0 to 156059\n",
      "Data columns (total 4 columns):\n",
      " #   Column      Non-Null Count   Dtype \n",
      "---  ------      --------------   ----- \n",
      " 0   PhraseId    156060 non-null  int64 \n",
      " 1   SentenceId  156060 non-null  int64 \n",
      " 2   Phrase      156060 non-null  object\n",
      " 3   Sentiment   156060 non-null  int64 \n",
      "dtypes: int64(3), object(1)\n",
      "memory usage: 4.8+ MB\n",
      "<class 'pandas.core.frame.DataFrame'>\n",
      "RangeIndex: 66292 entries, 0 to 66291\n",
      "Data columns (total 3 columns):\n",
      " #   Column      Non-Null Count  Dtype \n",
      "---  ------      --------------  ----- \n",
      " 0   PhraseId    66292 non-null  int64 \n",
      " 1   SentenceId  66292 non-null  int64 \n",
      " 2   Phrase      66291 non-null  object\n",
      "dtypes: int64(2), object(1)\n",
      "memory usage: 1.5+ MB\n"
     ]
    },
    {
     "data": {
      "text/plain": [
       "(None, None)"
      ]
     },
     "execution_count": 3,
     "metadata": {},
     "output_type": "execute_result"
    }
   ],
   "execution_count": 3
  },
  {
   "cell_type": "markdown",
   "source": "虽然看起来没有null，比较坑的是phrase居然有还有只有空白符的，特别是测试集还有 None...",
   "metadata": {
    "collapsed": false,
    "pycharm": {
     "name": "#%% md\n"
    }
   }
  },
  {
   "cell_type": "code",
   "source": [
    "train_blank = 0\n",
    "test_blank = 0\n",
    "test_none = 0\n",
    "for train_phrase, test_phrase in zip(df_train['Phrase'], df_test['Phrase']):\n",
    "    if not train_phrase.strip():\n",
    "        train_blank += 1\n",
    "    if test_phrase is np.nan:\n",
    "        test_none += 1\n",
    "    elif not test_phrase.strip():\n",
    "        test_blank += 1\n",
    "train_blank, test_blank, test_none"
   ],
   "metadata": {
    "collapsed": false,
    "pycharm": {
     "name": "#%%\n"
    },
    "ExecuteTime": {
     "end_time": "2024-12-20T01:52:43.844234Z",
     "start_time": "2024-12-20T01:52:43.796636Z"
    }
   },
   "outputs": [
    {
     "data": {
      "text/plain": [
       "(1, 1, 1)"
      ]
     },
     "execution_count": 4,
     "metadata": {},
     "output_type": "execute_result"
    }
   ],
   "execution_count": 4
  },
  {
   "metadata": {
    "ExecuteTime": {
     "end_time": "2024-12-20T01:53:07.058614Z",
     "start_time": "2024-12-20T01:53:07.052437Z"
    }
   },
   "cell_type": "code",
   "source": "df_train = df_train.head(1000)",
   "outputs": [],
   "execution_count": 8
  },
  {
   "cell_type": "code",
   "source": [
    "sentiment = df_train['Sentiment'].value_counts()\n",
    "sentiment = pd.DataFrame({'Sentiment': sentiment.index.tolist(), 'number': sentiment.values.tolist()})\n",
    "sentiment"
   ],
   "metadata": {
    "collapsed": false,
    "pycharm": {
     "name": "#%%\n"
    },
    "ExecuteTime": {
     "end_time": "2024-12-20T01:52:51.514964Z",
     "start_time": "2024-12-20T01:52:51.496934Z"
    }
   },
   "outputs": [
    {
     "data": {
      "text/plain": [
       "   Sentiment  number\n",
       "0          2   79582\n",
       "1          3   32927\n",
       "2          1   27273\n",
       "3          4    9206\n",
       "4          0    7072"
      ],
      "text/html": [
       "<div>\n",
       "<style scoped>\n",
       "    .dataframe tbody tr th:only-of-type {\n",
       "        vertical-align: middle;\n",
       "    }\n",
       "\n",
       "    .dataframe tbody tr th {\n",
       "        vertical-align: top;\n",
       "    }\n",
       "\n",
       "    .dataframe thead th {\n",
       "        text-align: right;\n",
       "    }\n",
       "</style>\n",
       "<table border=\"1\" class=\"dataframe\">\n",
       "  <thead>\n",
       "    <tr style=\"text-align: right;\">\n",
       "      <th></th>\n",
       "      <th>Sentiment</th>\n",
       "      <th>number</th>\n",
       "    </tr>\n",
       "  </thead>\n",
       "  <tbody>\n",
       "    <tr>\n",
       "      <th>0</th>\n",
       "      <td>2</td>\n",
       "      <td>79582</td>\n",
       "    </tr>\n",
       "    <tr>\n",
       "      <th>1</th>\n",
       "      <td>3</td>\n",
       "      <td>32927</td>\n",
       "    </tr>\n",
       "    <tr>\n",
       "      <th>2</th>\n",
       "      <td>1</td>\n",
       "      <td>27273</td>\n",
       "    </tr>\n",
       "    <tr>\n",
       "      <th>3</th>\n",
       "      <td>4</td>\n",
       "      <td>9206</td>\n",
       "    </tr>\n",
       "    <tr>\n",
       "      <th>4</th>\n",
       "      <td>0</td>\n",
       "      <td>7072</td>\n",
       "    </tr>\n",
       "  </tbody>\n",
       "</table>\n",
       "</div>"
      ]
     },
     "execution_count": 5,
     "metadata": {},
     "output_type": "execute_result"
    }
   ],
   "execution_count": 5
  },
  {
   "cell_type": "code",
   "source": [
    "plt.figure(figsize=(4, 3))\n",
    "sns.barplot(x='Sentiment', y='number', order=sentiment.Sentiment.tolist(), data=sentiment)\n",
    "plt.show()"
   ],
   "metadata": {
    "collapsed": false,
    "pycharm": {
     "name": "#%%\n"
    },
    "ExecuteTime": {
     "end_time": "2024-12-20T01:52:52.774182Z",
     "start_time": "2024-12-20T01:52:52.481014Z"
    }
   },
   "outputs": [
    {
     "data": {
      "text/plain": [
       "<Figure size 400x300 with 1 Axes>"
      ],
      "image/png": "[encoded data removed]"
     },
     "metadata": {},
     "output_type": "display_data"
    }
   ],
   "execution_count": 6
  },
  {
   "cell_type": "code",
   "source": [
    "# nltk.download('wordnet')\n",
    "# nltk.download('omw-1.4')\n",
    "# nltk.download('stopwords')\n",
    "# nltk.download('punkt')"
   ],
   "metadata": {
    "collapsed": false,
    "pycharm": {
     "name": "#%%\n"
    },
    "ExecuteTime": {
     "end_time": "2024-12-19T05:58:43.270515Z",
     "start_time": "2024-12-19T05:58:43.268165Z"
    }
   },
   "outputs": [],
   "execution_count": 8
  },
  {
   "cell_type": "code",
   "source": [
    "stop_words = stopwords.words('english')\n",
    "lemmatizer = WordNetLemmatizer()\n",
    "\n",
    "\n",
    "def preprocess_sentence(df):\n",
    "    for i in range(len(df)):\n",
    "        if df['Phrase'][i] is np.nan:\n",
    "            df['Phrase'][i] = ''\n",
    "        sentence = re.sub(r'[^\\w\\s]', '', df['Phrase'][i].lower())  #删除单词字符(a-zA-Z0-9_)和空白符外的所有字符\n",
    "        words = nltk.word_tokenize(sentence)\n",
    "        words_clean = [word for word in words if not word in stop_words and len(word) > 3]  #删除停用词(包括长度<=2的)\n",
    "        sentence_clean = ''\n",
    "        for word in words_clean:\n",
    "            sentence_clean += str(lemmatizer.lemmatize(word)) + ' '  #词形还原\n",
    "        yield sentence_clean"
   ],
   "metadata": {
    "collapsed": false,
    "pycharm": {
     "name": "#%%\n"
    },
    "ExecuteTime": {
     "end_time": "2024-12-20T01:53:00.568037Z",
     "start_time": "2024-12-20T01:53:00.549633Z"
    }
   },
   "outputs": [],
   "execution_count": 7
  },
  {
   "cell_type": "code",
   "source": [
    "df_train['phrase_clean'] = list(preprocess_sentence(df_train))\n",
    "df_test['phrase_clean'] = list(preprocess_sentence(df_test))\n",
    "df_train.head()"
   ],
   "metadata": {
    "collapsed": false,
    "pycharm": {
     "name": "#%%\n"
    },
    "ExecuteTime": {
     "end_time": "2024-12-20T01:55:13.877270Z",
     "start_time": "2024-12-20T01:54:55.610005Z"
    }
   },
   "outputs": [
    {
     "name": "stderr",
     "output_type": "stream",
     "text": [
      "/tmp/ipykernel_9486/1127321085.py:8: FutureWarning: ChainedAssignmentError: behaviour will change in pandas 3.0!\n",
      "You are setting values through chained assignment. Currently this works in certain cases, but when using Copy-on-Write (which will become the default behaviour in pandas 3.0) this will never work to update the original DataFrame or Series, because the intermediate object on which we are setting values will behave as a copy.\n",
      "A typical example is when you are setting values in a column of a DataFrame, like:\n",
      "\n",
      "df[\"col\"][row_indexer] = value\n",
      "\n",
      "Use `df.loc[row_indexer, \"col\"] = values` instead, to perform the assignment in a single step and ensure this keeps updating the original `df`.\n",
      "\n",
      "See the caveats in the documentation: https://pandas.pydata.org/pandas-docs/stable/user_guide/indexing.html#returning-a-view-versus-a-copy\n",
      "\n",
      "  df['Phrase'][i] = ''\n",
      "/tmp/ipykernel_9486/1127321085.py:8: SettingWithCopyWarning: \n",
      "A value is trying to be set on a copy of a slice from a DataFrame\n",
      "\n",
      "See the caveats in the documentation: https://pandas.pydata.org/pandas-docs/stable/user_guide/indexing.html#returning-a-view-versus-a-copy\n",
      "  df['Phrase'][i] = ''\n"
     ]
    },
    {
     "data": {
      "text/plain": [
       "   PhraseId  SentenceId                                             Phrase  \\\n",
       "0         1           1  A series of escapades demonstrating the adage ...   \n",
       "1         2           1  A series of escapades demonstrating the adage ...   \n",
       "2         3           1                                           A series   \n",
       "3         4           1                                                  A   \n",
       "4         5           1                                             series   \n",
       "\n",
       "   Sentiment                                       phrase_clean  \n",
       "0          1  series escapade demonstrating adage good goose...  \n",
       "1          2    series escapade demonstrating adage good goose   \n",
       "2          2                                            series   \n",
       "3          2                                                     \n",
       "4          2                                            series   "
      ],
      "text/html": [
       "<div>\n",
       "<style scoped>\n",
       "    .dataframe tbody tr th:only-of-type {\n",
       "        vertical-align: middle;\n",
       "    }\n",
       "\n",
       "    .dataframe tbody tr th {\n",
       "        vertical-align: top;\n",
       "    }\n",
       "\n",
       "    .dataframe thead th {\n",
       "        text-align: right;\n",
       "    }\n",
       "</style>\n",
       "<table border=\"1\" class=\"dataframe\">\n",
       "  <thead>\n",
       "    <tr style=\"text-align: right;\">\n",
       "      <th></th>\n",
       "      <th>PhraseId</th>\n",
       "      <th>SentenceId</th>\n",
       "      <th>Phrase</th>\n",
       "      <th>Sentiment</th>\n",
       "      <th>phrase_clean</th>\n",
       "    </tr>\n",
       "  </thead>\n",
       "  <tbody>\n",
       "    <tr>\n",
       "      <th>0</th>\n",
       "      <td>1</td>\n",
       "      <td>1</td>\n",
       "      <td>A series of escapades demonstrating the adage ...</td>\n",
       "      <td>1</td>\n",
       "      <td>series escapade demonstrating adage good goose...</td>\n",
       "    </tr>\n",
       "    <tr>\n",
       "      <th>1</th>\n",
       "      <td>2</td>\n",
       "      <td>1</td>\n",
       "      <td>A series of escapades demonstrating the adage ...</td>\n",
       "      <td>2</td>\n",
       "      <td>series escapade demonstrating adage good goose</td>\n",
       "    </tr>\n",
       "    <tr>\n",
       "      <th>2</th>\n",
       "      <td>3</td>\n",
       "      <td>1</td>\n",
       "      <td>A series</td>\n",
       "      <td>2</td>\n",
       "      <td>series</td>\n",
       "    </tr>\n",
       "    <tr>\n",
       "      <th>3</th>\n",
       "      <td>4</td>\n",
       "      <td>1</td>\n",
       "      <td>A</td>\n",
       "      <td>2</td>\n",
       "      <td></td>\n",
       "    </tr>\n",
       "    <tr>\n",
       "      <th>4</th>\n",
       "      <td>5</td>\n",
       "      <td>1</td>\n",
       "      <td>series</td>\n",
       "      <td>2</td>\n",
       "      <td>series</td>\n",
       "    </tr>\n",
       "  </tbody>\n",
       "</table>\n",
       "</div>"
      ]
     },
     "execution_count": 24,
     "metadata": {},
     "output_type": "execute_result"
    }
   ],
   "execution_count": 24
  },
  {
   "cell_type": "code",
   "source": [
    "df_test.head()"
   ],
   "metadata": {
    "collapsed": false,
    "pycharm": {
     "name": "#%%\n"
    },
    "ExecuteTime": {
     "end_time": "2024-12-20T01:53:32.335565Z",
     "start_time": "2024-12-20T01:53:32.318070Z"
    }
   },
   "outputs": [
    {
     "data": {
      "text/plain": [
       "   PhraseId  SentenceId                                             Phrase  \\\n",
       "0    156061        8545  An intermittently pleasing but mostly routine ...   \n",
       "1    156062        8545  An intermittently pleasing but mostly routine ...   \n",
       "2    156063        8545                                                 An   \n",
       "3    156064        8545  intermittently pleasing but mostly routine effort   \n",
       "4    156065        8545         intermittently pleasing but mostly routine   \n",
       "\n",
       "                                     phrase_clean  \n",
       "0  intermittently pleasing mostly routine effort   \n",
       "1  intermittently pleasing mostly routine effort   \n",
       "2                                                  \n",
       "3  intermittently pleasing mostly routine effort   \n",
       "4         intermittently pleasing mostly routine   "
      ],
      "text/html": [
       "<div>\n",
       "<style scoped>\n",
       "    .dataframe tbody tr th:only-of-type {\n",
       "        vertical-align: middle;\n",
       "    }\n",
       "\n",
       "    .dataframe tbody tr th {\n",
       "        vertical-align: top;\n",
       "    }\n",
       "\n",
       "    .dataframe thead th {\n",
       "        text-align: right;\n",
       "    }\n",
       "</style>\n",
       "<table border=\"1\" class=\"dataframe\">\n",
       "  <thead>\n",
       "    <tr style=\"text-align: right;\">\n",
       "      <th></th>\n",
       "      <th>PhraseId</th>\n",
       "      <th>SentenceId</th>\n",
       "      <th>Phrase</th>\n",
       "      <th>phrase_clean</th>\n",
       "    </tr>\n",
       "  </thead>\n",
       "  <tbody>\n",
       "    <tr>\n",
       "      <th>0</th>\n",
       "      <td>156061</td>\n",
       "      <td>8545</td>\n",
       "      <td>An intermittently pleasing but mostly routine ...</td>\n",
       "      <td>intermittently pleasing mostly routine effort</td>\n",
       "    </tr>\n",
       "    <tr>\n",
       "      <th>1</th>\n",
       "      <td>156062</td>\n",
       "      <td>8545</td>\n",
       "      <td>An intermittently pleasing but mostly routine ...</td>\n",
       "      <td>intermittently pleasing mostly routine effort</td>\n",
       "    </tr>\n",
       "    <tr>\n",
       "      <th>2</th>\n",
       "      <td>156063</td>\n",
       "      <td>8545</td>\n",
       "      <td>An</td>\n",
       "      <td></td>\n",
       "    </tr>\n",
       "    <tr>\n",
       "      <th>3</th>\n",
       "      <td>156064</td>\n",
       "      <td>8545</td>\n",
       "      <td>intermittently pleasing but mostly routine effort</td>\n",
       "      <td>intermittently pleasing mostly routine effort</td>\n",
       "    </tr>\n",
       "    <tr>\n",
       "      <th>4</th>\n",
       "      <td>156065</td>\n",
       "      <td>8545</td>\n",
       "      <td>intermittently pleasing but mostly routine</td>\n",
       "      <td>intermittently pleasing mostly routine</td>\n",
       "    </tr>\n",
       "  </tbody>\n",
       "</table>\n",
       "</div>"
      ]
     },
     "execution_count": 10,
     "metadata": {},
     "output_type": "execute_result"
    }
   ],
   "execution_count": 10
  },
  {
   "cell_type": "code",
   "source": [
    "X_train_text = df_train['phrase_clean'].values\n",
    "y_train = df_train['Sentiment'].values\n",
    "X_test_text = df_test['phrase_clean'].values\n",
    "X_train_text.shape, y_train.shape, X_test_text.shape"
   ],
   "metadata": {
    "collapsed": false,
    "pycharm": {
     "name": "#%%\n"
    },
    "ExecuteTime": {
     "end_time": "2024-12-20T01:55:29.035739Z",
     "start_time": "2024-12-20T01:55:29.027407Z"
    }
   },
   "outputs": [
    {
     "data": {
      "text/plain": [
       "((156060,), (156060,), (66292,))"
      ]
     },
     "execution_count": 25,
     "metadata": {},
     "output_type": "execute_result"
    }
   ],
   "execution_count": 25
  },
  {
   "cell_type": "code",
   "source": [
    "def acc_cv(clf):  #五折交叉验证\n",
    "    acc = cross_val_score(clf, X_train, y_train, cv=5)\n",
    "    return acc.mean(), acc.std()"
   ],
   "metadata": {
    "collapsed": false,
    "pycharm": {
     "name": "#%%\n"
    },
    "ExecuteTime": {
     "end_time": "2024-12-20T01:53:42.656986Z",
     "start_time": "2024-12-20T01:53:42.650343Z"
    }
   },
   "outputs": [],
   "execution_count": 12
  },
  {
   "cell_type": "markdown",
   "source": [
    "### 词袋和ngram对比实验"
   ],
   "metadata": {
    "collapsed": false,
    "pycharm": {
     "name": "#%% md\n"
    }
   }
  },
  {
   "cell_type": "code",
   "source": [
    "vectorizer_bgow = CountVectorizer()\n",
    "vectorizer_bgow.fit(X_train_text)\n",
    "X_train = vectorizer_bgow.transform(X_train_text).toarray()\n",
    "X_train.shape"
   ],
   "metadata": {
    "collapsed": false,
    "pycharm": {
     "name": "#%%\n"
    },
    "ExecuteTime": {
     "end_time": "2024-12-20T01:53:44.727165Z",
     "start_time": "2024-12-20T01:53:44.700793Z"
    }
   },
   "outputs": [
    {
     "data": {
      "text/plain": [
       "(1000, 272)"
      ]
     },
     "execution_count": 13,
     "metadata": {},
     "output_type": "execute_result"
    }
   ],
   "execution_count": 13
  },
  {
   "cell_type": "code",
   "source": [
    "from sklearn.linear_model import LogisticRegression\n",
    "\n",
    "clf = LogisticRegression()\n",
    "acc_cv(clf)"
   ],
   "metadata": {
    "collapsed": false,
    "pycharm": {
     "name": "#%%\n"
    },
    "ExecuteTime": {
     "end_time": "2024-12-20T01:53:45.496072Z",
     "start_time": "2024-12-20T01:53:45.344594Z"
    }
   },
   "outputs": [
    {
     "data": {
      "text/plain": [
       "(0.651, 0.0073484692283495405)"
      ]
     },
     "execution_count": 14,
     "metadata": {},
     "output_type": "execute_result"
    }
   ],
   "execution_count": 14
  },
  {
   "cell_type": "code",
   "source": [
    "for i in range(1, 6):\n",
    "    for j in range(i, 6):\n",
    "        vectorizer_ngram = CountVectorizer(ngram_range=(i, j))\n",
    "        vectorizer_ngram.fit(X_train_text)\n",
    "        X_train = vectorizer_ngram.transform(X_train_text).toarray()\n",
    "        clf = LogisticRegression()\n",
    "        print(i, j, acc_cv(clf))"
   ],
   "metadata": {
    "collapsed": false,
    "pycharm": {
     "name": "#%%\n"
    },
    "ExecuteTime": {
     "end_time": "2024-12-20T01:53:49.228063Z",
     "start_time": "2024-12-20T01:53:46.338837Z"
    }
   },
   "outputs": [
    {
     "name": "stdout",
     "output_type": "stream",
     "text": [
      "1 1 (0.651, 0.0073484692283495405)\n",
      "1 2 (0.652, 0.018055470085267804)\n",
      "1 3 (0.653, 0.017776388834631195)\n",
      "1 4 (0.654, 0.01319090595827293)\n",
      "1 5 (0.654, 0.01319090595827293)\n",
      "2 2 (0.6580000000000001, 0.015033296378372923)\n",
      "2 3 (0.6540000000000001, 0.015297058540778367)\n",
      "2 4 (0.656, 0.014628738838327805)\n",
      "2 5 (0.655, 0.014491376746189452)\n",
      "3 3 (0.658, 0.010295630140987009)\n",
      "3 4 (0.6600000000000001, 0.012247448713915901)\n",
      "3 5 (0.6600000000000001, 0.012247448713915901)\n",
      "4 4 (0.658, 0.011224972160321834)\n",
      "4 5 (0.658, 0.011224972160321834)\n",
      "5 5 (0.66, 0.01140175425099139)\n"
     ]
    }
   ],
   "execution_count": 15
  },
  {
   "cell_type": "markdown",
   "source": [
    "结论：n-gram要比词袋好一些。综合考虑acc的均值和方差，3-gram看起来最好"
   ],
   "metadata": {
    "collapsed": false,
    "pycharm": {
     "name": "#%% md\n"
    }
   }
  },
  {
   "cell_type": "markdown",
   "source": [
    "### logistic回归和softmax回归对比实验"
   ],
   "metadata": {
    "collapsed": false,
    "pycharm": {
     "name": "#%% md\n"
    }
   }
  },
  {
   "cell_type": "code",
   "source": [
    "vectorizer_3gram = CountVectorizer(ngram_range=(3, 3))\n",
    "vectorizer_3gram.fit(X_train_text)\n",
    "X_train = vectorizer_3gram.transform(X_train_text).toarray()\n",
    "clf1 = LogisticRegression(multi_class='multinomial')\n",
    "clf2 = LogisticRegression(multi_class='ovr')\n",
    "acc_cv(clf1), acc_cv(clf2)"
   ],
   "metadata": {
    "collapsed": false,
    "pycharm": {
     "name": "#%%\n"
    },
    "ExecuteTime": {
     "end_time": "2024-12-20T01:53:51.586966Z",
     "start_time": "2024-12-20T01:53:51.251680Z"
    }
   },
   "outputs": [
    {
     "data": {
      "text/plain": [
       "((0.658, 0.010295630140987009), (0.656, 0.013928388277184131))"
      ]
     },
     "execution_count": 16,
     "metadata": {},
     "output_type": "execute_result"
    }
   ],
   "execution_count": 16
  },
  {
   "cell_type": "markdown",
   "source": [
    "结论：softmax回归要比logistic回归好一点"
   ],
   "metadata": {
    "collapsed": false,
    "pycharm": {
     "name": "#%% md\n"
    }
   }
  },
  {
   "cell_type": "markdown",
   "source": [
    "### SGD不同损失函数对比实验"
   ],
   "metadata": {
    "collapsed": false,
    "pycharm": {
     "name": "#%% md\n"
    }
   }
  },
  {
   "cell_type": "code",
   "source": [
    "from sklearn.linear_model import SGDClassifier\n",
    "\n",
    "loss_list = ['hinge', 'log_loss', 'modified_huber', 'squared_hinge', 'perceptron', 'squared_error', 'huber',\n",
    "             'epsilon_insensitive', 'squared_epsilon_insensitive']\n",
    "for s in loss_list:\n",
    "    clf = SGDClassifier(loss=s)\n",
    "    print(s, acc_cv(clf))"
   ],
   "metadata": {
    "collapsed": false,
    "pycharm": {
     "name": "#%%\n"
    },
    "ExecuteTime": {
     "end_time": "2024-12-20T01:54:05.752503Z",
     "start_time": "2024-12-20T01:53:54.195620Z"
    }
   },
   "outputs": [
    {
     "name": "stdout",
     "output_type": "stream",
     "text": [
      "hinge (0.644, 0.023108440016582705)\n",
      "log_loss (0.65, 0.018165902124584965)\n",
      "modified_huber (0.6260000000000001, 0.02596150997149436)\n",
      "squared_hinge (0.3350000000000001, 0.25630060475933336)\n",
      "perceptron (0.4119999999999999, 0.23288623832249084)\n"
     ]
    },
    {
     "name": "stderr",
     "output_type": "stream",
     "text": [
      "/opt/anaconda3/lib/python3.12/site-packages/sklearn/linear_model/_stochastic_gradient.py:723: ConvergenceWarning: Maximum number of iteration reached before convergence. Consider increasing max_iter to improve the fit.\n",
      "  warnings.warn(\n"
     ]
    },
    {
     "name": "stdout",
     "output_type": "stream",
     "text": [
      "squared_error (0.177, 0.23720455307603183)\n",
      "huber (0.651, 0.012409673645990868)\n",
      "epsilon_insensitive (0.6540000000000001, 0.011135528725660053)\n"
     ]
    },
    {
     "name": "stderr",
     "output_type": "stream",
     "text": [
      "/opt/anaconda3/lib/python3.12/site-packages/sklearn/linear_model/_stochastic_gradient.py:723: ConvergenceWarning: Maximum number of iteration reached before convergence. Consider increasing max_iter to improve the fit.\n",
      "  warnings.warn(\n"
     ]
    },
    {
     "name": "stdout",
     "output_type": "stream",
     "text": [
      "squared_epsilon_insensitive (0.088, 0.06352952069707436)\n"
     ]
    }
   ],
   "execution_count": 17
  },
  {
   "cell_type": "markdown",
   "source": [
    "结论：最好的是损失函数是：huber、epsilon_insensitive、log_loss(交叉熵)"
   ],
   "metadata": {
    "collapsed": false,
    "pycharm": {
     "name": "#%% md\n"
    }
   }
  },
  {
   "cell_type": "markdown",
   "source": [
    "### SGD不同学习率对比实验"
   ],
   "metadata": {
    "collapsed": false,
    "pycharm": {
     "name": "#%% md\n"
    }
   }
  },
  {
   "cell_type": "code",
   "source": [
    "lr_list = [0.02, 0.01, 0.005, 0.002, 0.001]\n",
    "for lr in lr_list:\n",
    "    clf = SGDClassifier(loss='log_loss', learning_rate='constant', eta0=lr)\n",
    "    print(lr, acc_cv(clf))"
   ],
   "metadata": {
    "collapsed": false,
    "pycharm": {
     "name": "#%%\n"
    },
    "ExecuteTime": {
     "end_time": "2024-12-20T01:54:13.327618Z",
     "start_time": "2024-12-20T01:54:10.440095Z"
    }
   },
   "outputs": [
    {
     "name": "stdout",
     "output_type": "stream",
     "text": [
      "0.02 (0.657, 0.012083045973594584)\n",
      "0.01 (0.661, 0.0073484692283495405)\n",
      "0.005 (0.667, 0.006000000000000005)\n",
      "0.002 (0.67, 0.0)\n",
      "0.001 (0.67, 0.0)\n"
     ]
    }
   ],
   "execution_count": 18
  },
  {
   "cell_type": "markdown",
   "source": "结论：学习率偏大时无法收敛到或者错过了最优解。但是看不出是否存在因为学习率太小而陷入局部最优解和平原区域",
   "metadata": {
    "collapsed": false,
    "pycharm": {
     "name": "#%% md\n"
    }
   }
  },
  {
   "cell_type": "markdown",
   "source": [
    "### shuffle使用与否的对比实验"
   ],
   "metadata": {
    "collapsed": false,
    "pycharm": {
     "name": "#%% md\n"
    }
   }
  },
  {
   "cell_type": "markdown",
   "source": [
    "验证集划分时的shuffle对比实验"
   ],
   "metadata": {
    "collapsed": false,
    "pycharm": {
     "name": "#%% md\n"
    }
   }
  },
  {
   "cell_type": "code",
   "source": [
    "from sklearn.model_selection import train_test_split\n",
    "from sklearn.metrics import accuracy_score\n",
    "\n",
    "X_train_new, X_val, y_train_new, y_val = train_test_split(X_train, y_train, test_size=0.2, random_state=42,\n",
    "                                                          shuffle=False)\n",
    "clf = LogisticRegression()\n",
    "clf.fit(X_train_new, y_train_new)\n",
    "accuracy_score(y_val, clf.predict(X_val))"
   ],
   "metadata": {
    "collapsed": false,
    "pycharm": {
     "name": "#%%\n"
    },
    "ExecuteTime": {
     "end_time": "2024-12-20T01:54:18.796796Z",
     "start_time": "2024-12-20T01:54:18.762960Z"
    }
   },
   "outputs": [
    {
     "data": {
      "text/plain": [
       "0.62"
      ]
     },
     "execution_count": 19,
     "metadata": {},
     "output_type": "execute_result"
    }
   ],
   "execution_count": 19
  },
  {
   "cell_type": "code",
   "source": [
    "X_train_new, X_val, y_train_new, y_val = train_test_split(X_train, y_train, test_size=0.2, random_state=42,\n",
    "                                                          shuffle=True)\n",
    "clf.fit(X_train_new, y_train_new)\n",
    "accuracy_score(y_val, clf.predict(X_val))"
   ],
   "metadata": {
    "collapsed": false,
    "pycharm": {
     "name": "#%%\n"
    },
    "ExecuteTime": {
     "end_time": "2024-12-20T01:54:19.758458Z",
     "start_time": "2024-12-20T01:54:19.724168Z"
    }
   },
   "outputs": [
    {
     "data": {
      "text/plain": [
       "0.63"
      ]
     },
     "execution_count": 20,
     "metadata": {},
     "output_type": "execute_result"
    }
   ],
   "execution_count": 20
  },
  {
   "cell_type": "markdown",
   "source": [
    "SGD每个epoch data_loader时的shuffle对比实验"
   ],
   "metadata": {
    "collapsed": false,
    "pycharm": {
     "name": "#%% md\n"
    }
   }
  },
  {
   "cell_type": "code",
   "source": [
    "clf = SGDClassifier(loss='log_loss', shuffle=False)\n",
    "acc_cv(clf)"
   ],
   "metadata": {
    "collapsed": false,
    "pycharm": {
     "name": "#%%\n"
    },
    "ExecuteTime": {
     "end_time": "2024-12-20T01:54:24.530332Z",
     "start_time": "2024-12-20T01:54:23.857060Z"
    }
   },
   "outputs": [
    {
     "data": {
      "text/plain": [
       "(0.542, 0.20429390592966792)"
      ]
     },
     "execution_count": 21,
     "metadata": {},
     "output_type": "execute_result"
    }
   ],
   "execution_count": 21
  },
  {
   "cell_type": "code",
   "source": [
    "clf = SGDClassifier(loss='log_loss', shuffle=True)\n",
    "acc_cv(clf)"
   ],
   "metadata": {
    "collapsed": false,
    "pycharm": {
     "name": "#%%\n"
    },
    "ExecuteTime": {
     "end_time": "2024-12-20T01:54:26.176371Z",
     "start_time": "2024-12-20T01:54:25.565113Z"
    }
   },
   "outputs": [
    {
     "data": {
      "text/plain": [
       "(0.649, 0.015620499351813323)"
      ]
     },
     "execution_count": 22,
     "metadata": {},
     "output_type": "execute_result"
    }
   ],
   "execution_count": 22
  },
  {
   "cell_type": "markdown",
   "source": [
    "结论：shuffle可以明显减少过拟合，提高泛化能力。实验结果明显在验证集上准确率大幅提高了"
   ],
   "metadata": {
    "collapsed": false,
    "pycharm": {
     "name": "#%% md\n"
    }
   }
  },
  {
   "cell_type": "markdown",
   "source": [
    "用于kaggle提交的方案："
   ],
   "metadata": {
    "collapsed": false,
    "pycharm": {
     "name": "#%% md\n"
    }
   }
  },
  {
   "cell_type": "code",
   "source": [
    "from sklearn.feature_extraction.text import TfidfVectorizer\n",
    "\n",
    "vectorizer = TfidfVectorizer()\n",
    "vectorizer.fit(X_train_text)\n",
    "X_train = vectorizer.transform(X_train_text).toarray()\n",
    "X_test = vectorizer.transform(X_test_text).toarray()\n",
    "X_train.shape, X_test.shape"
   ],
   "metadata": {
    "collapsed": false,
    "pycharm": {
     "name": "#%%\n"
    },
    "ExecuteTime": {
     "end_time": "2024-12-20T01:55:42.355133Z",
     "start_time": "2024-12-20T01:55:39.226926Z"
    }
   },
   "outputs": [
    {
     "data": {
      "text/plain": [
       "((156060, 14455), (66292, 14455))"
      ]
     },
     "execution_count": 26,
     "metadata": {},
     "output_type": "execute_result"
    }
   ],
   "execution_count": 26
  },
  {
   "cell_type": "code",
   "source": [
    "from lightgbm import LGBMClassifier\n",
    "\n",
    "lgbm = LGBMClassifier(learning_rate=0.001)\n",
    "acc_cv(lgbm)"
   ],
   "metadata": {
    "collapsed": false,
    "pycharm": {
     "name": "#%%\n"
    },
    "ExecuteTime": {
     "end_time": "2024-12-20T01:57:45.215715Z",
     "start_time": "2024-12-20T01:55:45.698684Z"
    }
   },
   "outputs": [
    {
     "name": "stdout",
     "output_type": "stream",
     "text": [
      "[LightGBM] [Info] Auto-choosing row-wise multi-threading, the overhead of testing was 0.734731 seconds.\n",
      "You can set `force_row_wise=true` to remove the overhead.\n",
      "And if memory is not enough, you can set `force_col_wise=true`.\n",
      "[LightGBM] [Info] Total Bins 100431\n",
      "[LightGBM] [Info] Number of data points in the train set: 124848, number of used features: 4450\n",
      "[LightGBM] [Info] Start training from score -3.094027\n",
      "[LightGBM] [Info] Start training from score -1.744362\n",
      "[LightGBM] [Info] Start training from score -0.673446\n",
      "[LightGBM] [Info] Start training from score -1.555970\n",
      "[LightGBM] [Info] Start training from score -2.830358\n",
      "[LightGBM] [Info] Auto-choosing row-wise multi-threading, the overhead of testing was 0.249449 seconds.\n",
      "You can set `force_row_wise=true` to remove the overhead.\n",
      "And if memory is not enough, you can set `force_col_wise=true`.\n",
      "[LightGBM] [Info] Total Bins 99248\n",
      "[LightGBM] [Info] Number of data points in the train set: 124848, number of used features: 4466\n",
      "[LightGBM] [Info] Start training from score -3.094027\n",
      "[LightGBM] [Info] Start training from score -1.744362\n",
      "[LightGBM] [Info] Start training from score -0.673446\n",
      "[LightGBM] [Info] Start training from score -1.555970\n",
      "[LightGBM] [Info] Start training from score -2.830358\n",
      "[LightGBM] [Info] Auto-choosing row-wise multi-threading, the overhead of testing was 0.258699 seconds.\n",
      "You can set `force_row_wise=true` to remove the overhead.\n",
      "And if memory is not enough, you can set `force_col_wise=true`.\n",
      "[LightGBM] [Info] Total Bins 97902\n",
      "[LightGBM] [Info] Number of data points in the train set: 124848, number of used features: 4386\n",
      "[LightGBM] [Info] Start training from score -3.094027\n",
      "[LightGBM] [Info] Start training from score -1.744362\n",
      "[LightGBM] [Info] Start training from score -0.673446\n",
      "[LightGBM] [Info] Start training from score -1.555932\n",
      "[LightGBM] [Info] Start training from score -2.830494\n",
      "[LightGBM] [Info] Auto-choosing col-wise multi-threading, the overhead of testing was 0.266442 seconds.\n",
      "You can set `force_col_wise=true` to remove the overhead.\n",
      "[LightGBM] [Info] Total Bins 97864\n",
      "[LightGBM] [Info] Number of data points in the train set: 124848, number of used features: 4442\n",
      "[LightGBM] [Info] Start training from score -3.094203\n",
      "[LightGBM] [Info] Start training from score -1.744316\n",
      "[LightGBM] [Info] Start training from score -0.673462\n",
      "[LightGBM] [Info] Start training from score -1.555932\n",
      "[LightGBM] [Info] Start training from score -2.830358\n",
      "[LightGBM] [Info] Auto-choosing col-wise multi-threading, the overhead of testing was 0.254952 seconds.\n",
      "You can set `force_col_wise=true` to remove the overhead.\n",
      "[LightGBM] [Info] Total Bins 96981\n",
      "[LightGBM] [Info] Number of data points in the train set: 124848, number of used features: 4380\n",
      "[LightGBM] [Info] Start training from score -3.094203\n",
      "[LightGBM] [Info] Start training from score -1.744316\n",
      "[LightGBM] [Info] Start training from score -0.673462\n",
      "[LightGBM] [Info] Start training from score -1.555932\n",
      "[LightGBM] [Info] Start training from score -2.830358\n"
     ]
    },
    {
     "data": {
      "text/plain": [
       "(0.5099448929898757, 1.5695820471474708e-05)"
      ]
     },
     "execution_count": 27,
     "metadata": {},
     "output_type": "execute_result"
    }
   ],
   "execution_count": 27
  },
  {
   "cell_type": "code",
   "source": [
    "lgbm.fit(X_train, y_train)\n",
    "y_pred = lgbm.predict(X_test)\n",
    "df_submit = pd.DataFrame({'PhraseId': df_test['PhraseId'], 'Sentiment': y_pred})\n",
    "df_submit.head()"
   ],
   "metadata": {
    "collapsed": false,
    "pycharm": {
     "name": "#%%\n"
    },
    "ExecuteTime": {
     "end_time": "2024-12-20T01:58:42.713316Z",
     "start_time": "2024-12-20T01:58:17.190087Z"
    }
   },
   "outputs": [
    {
     "name": "stdout",
     "output_type": "stream",
     "text": [
      "[LightGBM] [Info] Auto-choosing row-wise multi-threading, the overhead of testing was 0.477297 seconds.\n",
      "You can set `force_row_wise=true` to remove the overhead.\n",
      "And if memory is not enough, you can set `force_col_wise=true`.\n",
      "[LightGBM] [Info] Total Bins 124107\n",
      "[LightGBM] [Info] Number of data points in the train set: 156060, number of used features: 5234\n",
      "[LightGBM] [Info] Start training from score -3.094097\n",
      "[LightGBM] [Info] Start training from score -1.744343\n",
      "[LightGBM] [Info] Start training from score -0.673453\n",
      "[LightGBM] [Info] Start training from score -1.555948\n",
      "[LightGBM] [Info] Start training from score -2.830385\n"
     ]
    },
    {
     "data": {
      "text/plain": [
       "   PhraseId  Sentiment\n",
       "0    156061          2\n",
       "1    156062          2\n",
       "2    156063          2\n",
       "3    156064          2\n",
       "4    156065          2"
      ],
      "text/html": [
       "<div>\n",
       "<style scoped>\n",
       "    .dataframe tbody tr th:only-of-type {\n",
       "        vertical-align: middle;\n",
       "    }\n",
       "\n",
       "    .dataframe tbody tr th {\n",
       "        vertical-align: top;\n",
       "    }\n",
       "\n",
       "    .dataframe thead th {\n",
       "        text-align: right;\n",
       "    }\n",
       "</style>\n",
       "<table border=\"1\" class=\"dataframe\">\n",
       "  <thead>\n",
       "    <tr style=\"text-align: right;\">\n",
       "      <th></th>\n",
       "      <th>PhraseId</th>\n",
       "      <th>Sentiment</th>\n",
       "    </tr>\n",
       "  </thead>\n",
       "  <tbody>\n",
       "    <tr>\n",
       "      <th>0</th>\n",
       "      <td>156061</td>\n",
       "      <td>2</td>\n",
       "    </tr>\n",
       "    <tr>\n",
       "      <th>1</th>\n",
       "      <td>156062</td>\n",
       "      <td>2</td>\n",
       "    </tr>\n",
       "    <tr>\n",
       "      <th>2</th>\n",
       "      <td>156063</td>\n",
       "      <td>2</td>\n",
       "    </tr>\n",
       "    <tr>\n",
       "      <th>3</th>\n",
       "      <td>156064</td>\n",
       "      <td>2</td>\n",
       "    </tr>\n",
       "    <tr>\n",
       "      <th>4</th>\n",
       "      <td>156065</td>\n",
       "      <td>2</td>\n",
       "    </tr>\n",
       "  </tbody>\n",
       "</table>\n",
       "</div>"
      ]
     },
     "execution_count": 28,
     "metadata": {},
     "output_type": "execute_result"
    }
   ],
   "execution_count": 28
  },
  {
   "cell_type": "code",
   "source": "df_submit.to_csv(\"submission/submission_lgbm.csv\", index=False)",
   "metadata": {
    "collapsed": false,
    "pycharm": {
     "name": "#%%\n"
    },
    "ExecuteTime": {
     "end_time": "2024-12-20T01:58:42.779253Z",
     "start_time": "2024-12-20T01:58:42.715727Z"
    }
   },
   "outputs": [],
   "execution_count": 29
  },
  {
   "metadata": {},
   "cell_type": "markdown",
   "source": "kaggle 提交评分：0.51789  "
  }
 ],
 "metadata": {
  "kernelspec": {
   "display_name": "Python 3",
   "language": "python",
   "name": "python3"
  },
  "language_info": {
   "codemirror_mode": {
    "name": "ipython",
    "version": 2
   },
   "file_extension": ".py",
   "mimetype": "text/x-python",
   "name": "python",
   "nbconvert_exporter": "python",
   "pygments_lexer": "ipython2",
   "version": "2.7.6"
  }
 },
 "nbformat": 4,
 "nbformat_minor": 0
}
